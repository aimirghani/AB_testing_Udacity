{
 "cells": [
  {
   "cell_type": "markdown",
   "id": "0d0d6387-f462-4005-90bb-f653df5b4020",
   "metadata": {
    "tags": []
   },
   "source": [
    "# Udacity AB Testing"
   ]
  },
  {
   "cell_type": "code",
   "execution_count": 1,
   "id": "63636d14-e460-4152-b6f3-e50917682ebc",
   "metadata": {},
   "outputs": [],
   "source": [
    "import numpy as np\n",
    "import pandas as pd\n",
    "from ab_tools.Metrics import Metric, MetricAnalyzer\n",
    "from ab_tools.Power import Power_analyzer\n",
    "from ab_tools.utils import generate_ci_report\n",
    "import scipy.stats as ss"
   ]
  },
  {
   "cell_type": "markdown",
   "id": "b77e505c-8bca-4e1d-8db8-f11c5a3c454f",
   "metadata": {},
   "source": [
    "---"
   ]
  },
  {
   "cell_type": "markdown",
   "id": "bca62c8e-b95a-4900-9eb0-da7df4f220f5",
   "metadata": {
    "tags": []
   },
   "source": [
    "### ⚡ Project Objective"
   ]
  },
  {
   "cell_type": "markdown",
   "id": "3053e05a-8c84-4a5a-a638-89d085093945",
   "metadata": {},
   "source": [
    "This experiment is a replica of one that the online educational platform \"Udacity\" has performed in order to test the significance of a change to its free trial subscription procedure."
   ]
  },
  {
   "cell_type": "markdown",
   "id": "5437f23e-eca6-4c6b-b0e8-4037d0ce29d8",
   "metadata": {},
   "source": [
    "---"
   ]
  },
  {
   "cell_type": "markdown",
   "id": "e2dd6395-969c-4972-8433-d10a84943760",
   "metadata": {
    "tags": []
   },
   "source": [
    "### 💡 Free Trial procedure Overview"
   ]
  },
  {
   "cell_type": "markdown",
   "id": "6bf97a93-4bd2-4c8e-88cc-714322aa0fdf",
   "metadata": {
    "tags": []
   },
   "source": [
    "#### 1- Control"
   ]
  },
  {
   "cell_type": "markdown",
   "id": "c555da33-3a53-48d4-84a6-2a942efae2da",
   "metadata": {},
   "source": [
    "Without any change introduced, there are two options offered on each course overview page: \"start a free trial\" and \"access course materials\". If the student chooses the \"start free trial\" option, they will be prompted to provide their credit card information and enroll in a free trial of the paid course. However, after 14 days, they will be automatically charged unless they choose to cancel before the trial period ends. On the other hand, if the student selects \"access course materials\" they can view the videos and take the quizzes for free. Nevertheless, they will not get coaching support, a verified certificate, or submit their final project for feedback."
   ]
  },
  {
   "cell_type": "markdown",
   "id": "454d7a67-30a4-4738-aea4-292faef65a94",
   "metadata": {
    "tags": []
   },
   "source": [
    "#### 2- Experiment"
   ]
  },
  {
   "cell_type": "markdown",
   "id": "53f61c2e-718e-4850-a7a7-f7e5d50ec4b1",
   "metadata": {},
   "source": [
    "The change that Udacity desires to test is that if a student clicked \"start free trial\", they would have been asked how much time they had available to devote to the course. If the student indicated 5 or more hours per week, they would be taken through the checkout process as usual. If they indicated fewer than 5 hours per week, a message would appear indicating that Udacity courses usually require a greater time commitment for successful completion and suggesting that the student might like to access the course materials for free. At this point, the student would have the option to continue enrolling in the free trial or access the course materials for free instead.\n",
    "The proposed pop-up message looks as follows:"
   ]
  },
  {
   "cell_type": "markdown",
   "id": "50430483-b978-46d4-bef0-665e0d8266e5",
   "metadata": {},
   "source": [
    "![Free Trial screener](Free_trial_screener.png)"
   ]
  },
  {
   "cell_type": "markdown",
   "id": "bf4a70ff-d340-4800-9c16-513e9796384d",
   "metadata": {},
   "source": [
    "---"
   ]
  },
  {
   "cell_type": "markdown",
   "id": "5ddfe985-5bc9-4745-ae8e-459e2b1055ba",
   "metadata": {
    "tags": []
   },
   "source": [
    "### ⚖ The Hypothesis"
   ]
  },
  {
   "cell_type": "markdown",
   "id": "4a0971f4-ac75-497b-968d-e3fd8e665297",
   "metadata": {},
   "source": [
    "$\\large H_{0}: $ There is no difference in the choosen metric before the change and after the change     \n",
    "\n",
    "$\\large Vs$     \n",
    "      \n",
    "$\\large H_{1}: $ There is a difference in the choosen metric before the change and after the change"
   ]
  },
  {
   "cell_type": "markdown",
   "id": "547ba861-aa49-4e9a-928a-6407c40aa4b4",
   "metadata": {},
   "source": [
    "---"
   ]
  },
  {
   "cell_type": "markdown",
   "id": "f43a84ac-2d50-4bf6-8aaf-fa75329fd7b4",
   "metadata": {
    "tags": []
   },
   "source": [
    "### 📏 Metrics"
   ]
  },
  {
   "cell_type": "markdown",
   "id": "4117d3cd-0167-4fc9-b029-ca30a3b57301",
   "metadata": {},
   "source": [
    "In the [experiment instructions](Final_project_instructions.pdf), there are several metrics provided along with their corresponding practical significance. Two types of metrics have to be chosen from them: invariant metrics for sanity checks and evaluation metrics for measuring the significance of the $\\large H_{1}$."
   ]
  },
  {
   "cell_type": "markdown",
   "id": "2fd7f009-9b0b-41e3-a971-70d6ea097d6b",
   "metadata": {},
   "source": [
    "#### - Invariant Metrics"
   ]
  },
  {
   "cell_type": "markdown",
   "id": "303b6934-3967-41d9-a154-e1aca5e43e54",
   "metadata": {},
   "source": [
    "The invariant metrics are the ones that should not change across the control and the experiment groups, and based on that, the chosen invariant metrics are:    \n",
    "- **Number of cookies:** The number of unique cookies to view the course overview page. $d_{min} = 3000$     \n",
    "- **Number of clicks:** The number of unique cookies to click the \"Start free trial\" button (which happens before the free trial screener is trigger). $d_{min} = 240$     "
   ]
  },
  {
   "cell_type": "markdown",
   "id": "b939feba-0f1d-4100-b5b4-2e0adbfcbc11",
   "metadata": {},
   "source": [
    "#### - Evaluation Metrics"
   ]
  },
  {
   "cell_type": "markdown",
   "id": "d97112b2-62b5-4d7d-b03c-c5feb3f545d8",
   "metadata": {},
   "source": [
    "The choosen Evaluation metrics are:      \n",
    "- **Retention:** The number of user-ids to remain enrolled past the 14-day boundary (and thus make at least one payment) divided by number of user-ids to complete checkout. $d_{min} = .01$     \n",
    "- **Net conversion:** The number of user-ids to remain enrolled past the 14-day boundary (and thus make at least one payment) divided by the number of unique cookies to click the \"Start free trial\" button. $d_{min} = 0.0075$"
   ]
  },
  {
   "cell_type": "markdown",
   "id": "96b26161-6adb-409b-8e9f-3bc07d6fd1c3",
   "metadata": {},
   "source": [
    "---"
   ]
  },
  {
   "cell_type": "markdown",
   "id": "f655387c-87d0-42c8-9f2f-20802feb0a68",
   "metadata": {
    "tags": []
   },
   "source": [
    "### 📊 Baseline Metrics' estimates"
   ]
  },
  {
   "cell_type": "markdown",
   "id": "b65901e9-ab93-43a9-8214-7470f17c0542",
   "metadata": {},
   "source": [
    "There is a baseline estimate for each metric attached with the experiment, they look as follows: "
   ]
  },
  {
   "cell_type": "code",
   "execution_count": 2,
   "id": "34fae0f5-669f-432c-a0ef-1b12aa0e5aa2",
   "metadata": {},
   "outputs": [
    {
     "data": {
      "text/html": [
       "<style type=\"text/css\">\n",
       "#T_67927_row0_col0, #T_67927_row0_col1, #T_67927_row1_col0, #T_67927_row1_col1, #T_67927_row2_col0, #T_67927_row2_col1, #T_67927_row3_col0, #T_67927_row3_col1, #T_67927_row4_col0, #T_67927_row4_col1, #T_67927_row5_col0, #T_67927_row5_col1, #T_67927_row6_col0, #T_67927_row6_col1 {\n",
       "  text-align: left;\n",
       "  display.max_colwidth: None;\n",
       "}\n",
       "</style>\n",
       "<table id=\"T_67927\">\n",
       "  <thead>\n",
       "    <tr>\n",
       "      <th class=\"blank level0\" >&nbsp;</th>\n",
       "      <th id=\"T_67927_level0_col0\" class=\"col_heading level0 col0\" >Metric Description</th>\n",
       "      <th id=\"T_67927_level0_col1\" class=\"col_heading level0 col1\" >Baseline estimate</th>\n",
       "    </tr>\n",
       "    <tr>\n",
       "      <th class=\"index_name level0\" >metric</th>\n",
       "      <th class=\"blank col0\" >&nbsp;</th>\n",
       "      <th class=\"blank col1\" >&nbsp;</th>\n",
       "    </tr>\n",
       "  </thead>\n",
       "  <tbody>\n",
       "    <tr>\n",
       "      <th id=\"T_67927_level0_row0\" class=\"row_heading level0 row0\" >cookies_total</th>\n",
       "      <td id=\"T_67927_row0_col0\" class=\"data row0 col0\" >Unique cookies to view course overview page per day:</td>\n",
       "      <td id=\"T_67927_row0_col1\" class=\"data row0 col1\" >40000.000000</td>\n",
       "    </tr>\n",
       "    <tr>\n",
       "      <th id=\"T_67927_level0_row1\" class=\"row_heading level0 row1\" >clicks_trial</th>\n",
       "      <td id=\"T_67927_row1_col0\" class=\"data row1 col0\" >Unique cookies to click \"Start free trial\" per day:</td>\n",
       "      <td id=\"T_67927_row1_col1\" class=\"data row1 col1\" >3200.000000</td>\n",
       "    </tr>\n",
       "    <tr>\n",
       "      <th id=\"T_67927_level0_row2\" class=\"row_heading level0 row2\" >enrollments</th>\n",
       "      <td id=\"T_67927_row2_col0\" class=\"data row2 col0\" >Enrollments per day:</td>\n",
       "      <td id=\"T_67927_row2_col1\" class=\"data row2 col1\" >660.000000</td>\n",
       "    </tr>\n",
       "    <tr>\n",
       "      <th id=\"T_67927_level0_row3\" class=\"row_heading level0 row3\" >CTP</th>\n",
       "      <td id=\"T_67927_row3_col0\" class=\"data row3 col0\" >Click-through-probability on \"Start free trial\":</td>\n",
       "      <td id=\"T_67927_row3_col1\" class=\"data row3 col1\" >0.080000</td>\n",
       "    </tr>\n",
       "    <tr>\n",
       "      <th id=\"T_67927_level0_row4\" class=\"row_heading level0 row4\" >gross_conversion</th>\n",
       "      <td id=\"T_67927_row4_col0\" class=\"data row4 col0\" >Probability of enrolling, given click:</td>\n",
       "      <td id=\"T_67927_row4_col1\" class=\"data row4 col1\" >0.206250</td>\n",
       "    </tr>\n",
       "    <tr>\n",
       "      <th id=\"T_67927_level0_row5\" class=\"row_heading level0 row5\" >retention</th>\n",
       "      <td id=\"T_67927_row5_col0\" class=\"data row5 col0\" >Probability of payment, given enroll:</td>\n",
       "      <td id=\"T_67927_row5_col1\" class=\"data row5 col1\" >0.530000</td>\n",
       "    </tr>\n",
       "    <tr>\n",
       "      <th id=\"T_67927_level0_row6\" class=\"row_heading level0 row6\" >net_conversion</th>\n",
       "      <td id=\"T_67927_row6_col0\" class=\"data row6 col0\" >Probability of payment, given click</td>\n",
       "      <td id=\"T_67927_row6_col1\" class=\"data row6 col1\" >0.109313</td>\n",
       "    </tr>\n",
       "  </tbody>\n",
       "</table>\n"
      ],
      "text/plain": [
       "<pandas.io.formats.style.Styler at 0x2727e8e2430>"
      ]
     },
     "execution_count": 2,
     "metadata": {},
     "output_type": "execute_result"
    }
   ],
   "source": [
    "baseline = pd.read_csv('data/Baseline_Values.csv', names=[\"Metric Description\", \"Baseline estimate\"])\n",
    "\n",
    "baseline[\"metric\"] = [\"cookies_total\", \"clicks_trial\", \"enrollments\", \"CTP\", \"gross_conversion\", \"retention\", \"net_conversion\"]\n",
    "baseline.set_index(\"metric\", inplace=True)\n",
    "\n",
    "baseline.style.set_properties(**{'text-align': 'left', 'display.max_colwidth': None})"
   ]
  },
  {
   "cell_type": "markdown",
   "id": "72db610a-9c89-4f16-ac76-581af6982bf6",
   "metadata": {
    "tags": []
   },
   "source": [
    "### Calculating standard deviation Analytically "
   ]
  },
  {
   "cell_type": "markdown",
   "id": "ab1766b2-d254-49d7-99e0-5c6642e53df0",
   "metadata": {},
   "source": [
    "According to the [experiment instructions](Final_project_instructions.pdf) it is given a sample size of **5000 cookies** visiting the course overview page. Therefore, to calculate the standard deviation for each metric, we have to rescale the baseline estimates first."
   ]
  },
  {
   "cell_type": "code",
   "execution_count": 3,
   "id": "3c83e2ce-e19e-4176-ab12-5411414cf23c",
   "metadata": {
    "tags": []
   },
   "outputs": [],
   "source": [
    "sample_size = 5000\n",
    "sample_ratio = sample_size/40_000"
   ]
  },
  {
   "cell_type": "code",
   "execution_count": 4,
   "id": "d5292037-0211-4b38-a48e-9e2c74e8778b",
   "metadata": {},
   "outputs": [],
   "source": [
    "baseline[\"Baseline estimate rescaled\"] = baseline[\"Baseline estimate\"].copy()"
   ]
  },
  {
   "cell_type": "code",
   "execution_count": 5,
   "id": "22e04723-62ef-47a9-afb8-cfbc1bdd7fa1",
   "metadata": {},
   "outputs": [],
   "source": [
    "baseline.loc[:'enrollments', \"Baseline estimate rescaled\"] = baseline.loc[:'enrollments', \"Baseline estimate rescaled\"] * sample_ratio"
   ]
  },
  {
   "cell_type": "code",
   "execution_count": 6,
   "id": "4e673077-d4c4-4df4-87c7-f85dac7e846e",
   "metadata": {},
   "outputs": [
    {
     "data": {
      "text/html": [
       "<div>\n",
       "<style scoped>\n",
       "    .dataframe tbody tr th:only-of-type {\n",
       "        vertical-align: middle;\n",
       "    }\n",
       "\n",
       "    .dataframe tbody tr th {\n",
       "        vertical-align: top;\n",
       "    }\n",
       "\n",
       "    .dataframe thead th {\n",
       "        text-align: right;\n",
       "    }\n",
       "</style>\n",
       "<table border=\"1\" class=\"dataframe\">\n",
       "  <thead>\n",
       "    <tr style=\"text-align: right;\">\n",
       "      <th></th>\n",
       "      <th>Metric Description</th>\n",
       "      <th>Baseline estimate</th>\n",
       "      <th>Baseline estimate rescaled</th>\n",
       "    </tr>\n",
       "    <tr>\n",
       "      <th>metric</th>\n",
       "      <th></th>\n",
       "      <th></th>\n",
       "      <th></th>\n",
       "    </tr>\n",
       "  </thead>\n",
       "  <tbody>\n",
       "    <tr>\n",
       "      <th>cookies_total</th>\n",
       "      <td>Unique cookies to view course overview page pe...</td>\n",
       "      <td>40000.000000</td>\n",
       "      <td>5000.000000</td>\n",
       "    </tr>\n",
       "    <tr>\n",
       "      <th>clicks_trial</th>\n",
       "      <td>Unique cookies to click \"Start free trial\" per...</td>\n",
       "      <td>3200.000000</td>\n",
       "      <td>400.000000</td>\n",
       "    </tr>\n",
       "    <tr>\n",
       "      <th>enrollments</th>\n",
       "      <td>Enrollments per day:</td>\n",
       "      <td>660.000000</td>\n",
       "      <td>82.500000</td>\n",
       "    </tr>\n",
       "    <tr>\n",
       "      <th>CTP</th>\n",
       "      <td>Click-through-probability on \"Start free trial\":</td>\n",
       "      <td>0.080000</td>\n",
       "      <td>0.080000</td>\n",
       "    </tr>\n",
       "    <tr>\n",
       "      <th>gross_conversion</th>\n",
       "      <td>Probability of enrolling, given click:</td>\n",
       "      <td>0.206250</td>\n",
       "      <td>0.206250</td>\n",
       "    </tr>\n",
       "    <tr>\n",
       "      <th>retention</th>\n",
       "      <td>Probability of payment, given enroll:</td>\n",
       "      <td>0.530000</td>\n",
       "      <td>0.530000</td>\n",
       "    </tr>\n",
       "    <tr>\n",
       "      <th>net_conversion</th>\n",
       "      <td>Probability of payment, given click</td>\n",
       "      <td>0.109313</td>\n",
       "      <td>0.109313</td>\n",
       "    </tr>\n",
       "  </tbody>\n",
       "</table>\n",
       "</div>"
      ],
      "text/plain": [
       "                                                 Metric Description  \\\n",
       "metric                                                                \n",
       "cookies_total     Unique cookies to view course overview page pe...   \n",
       "clicks_trial      Unique cookies to click \"Start free trial\" per...   \n",
       "enrollments                                    Enrollments per day:   \n",
       "CTP                Click-through-probability on \"Start free trial\":   \n",
       "gross_conversion             Probability of enrolling, given click:   \n",
       "retention                     Probability of payment, given enroll:   \n",
       "net_conversion                  Probability of payment, given click   \n",
       "\n",
       "                  Baseline estimate  Baseline estimate rescaled  \n",
       "metric                                                           \n",
       "cookies_total          40000.000000                 5000.000000  \n",
       "clicks_trial            3200.000000                  400.000000  \n",
       "enrollments              660.000000                   82.500000  \n",
       "CTP                        0.080000                    0.080000  \n",
       "gross_conversion           0.206250                    0.206250  \n",
       "retention                  0.530000                    0.530000  \n",
       "net_conversion             0.109313                    0.109313  "
      ]
     },
     "execution_count": 6,
     "metadata": {},
     "output_type": "execute_result"
    }
   ],
   "source": [
    "baseline"
   ]
  },
  {
   "cell_type": "code",
   "execution_count": 7,
   "id": "520ad19f-37a4-4c35-af68-9dc27cbc4943",
   "metadata": {},
   "outputs": [
    {
     "name": "stdout",
     "output_type": "stream",
     "text": [
      "CTP = 0.08\n",
      "gross conversion = 0.20625\n",
      "retention = 0.53\n",
      "net conversion = 0.1093125\n"
     ]
    }
   ],
   "source": [
    "print(f\"CTP = {3200/40_000}\")\n",
    "print(f\"gross conversion = {660/3200}\")\n",
    "print(f\"retention = {.53}\")\n",
    "print(f\"net conversion = {660*.53/3200}\")"
   ]
  },
  {
   "cell_type": "code",
   "execution_count": 8,
   "id": "ea1e3b8f-8924-4f9d-8803-af3652ace6a8",
   "metadata": {},
   "outputs": [],
   "source": [
    "pwr_analysis = Power_analyzer(alpha=.05, beta=.2)"
   ]
  },
  {
   "cell_type": "code",
   "execution_count": 9,
   "id": "5206158b-016d-4273-8272-64676a889463",
   "metadata": {},
   "outputs": [
    {
     "data": {
      "text/plain": [
       "metric\n",
       "cookies_total       5000.000000\n",
       "clicks_trial         400.000000\n",
       "enrollments           82.500000\n",
       "CTP                    0.080000\n",
       "gross_conversion       0.206250\n",
       "retention              0.530000\n",
       "net_conversion         0.109313\n",
       "Name: Baseline estimate rescaled, dtype: float64"
      ]
     },
     "execution_count": 9,
     "metadata": {},
     "output_type": "execute_result"
    }
   ],
   "source": [
    "rescaled_data = baseline.loc[:, \"Baseline estimate rescaled\"]\n",
    "rescaled_data"
   ]
  },
  {
   "cell_type": "markdown",
   "id": "894dcc1c-b2f5-49cf-bf1a-c1c6643bd4b8",
   "metadata": {},
   "source": [
    "By defining each metric as an instance of the ***Metric class*** [[Source Code](ab_tools/Metrics.py)], the standard error is automatically calculated given the baseline estimate and the corresponding number of analysis unit provided in the initialization of the Metric instance."
   ]
  },
  {
   "cell_type": "code",
   "execution_count": 10,
   "id": "27ec8cac-9e73-424a-99d4-71e03bd26138",
   "metadata": {
    "tags": []
   },
   "outputs": [
    {
     "data": {
      "text/plain": [
       "Metric(p=0.53, n=82.5, d_min=0.01, se=0.0549)"
      ]
     },
     "execution_count": 10,
     "metadata": {},
     "output_type": "execute_result"
    }
   ],
   "source": [
    "retentiton = Metric(p=rescaled_data[\"retention\"], n=rescaled_data[\"enrollments\"], d_min=.01)\n",
    "retentiton"
   ]
  },
  {
   "cell_type": "code",
   "execution_count": 11,
   "id": "91bbcd77-e2e1-45d3-810b-5bb486ece3cc",
   "metadata": {},
   "outputs": [
    {
     "data": {
      "text/plain": [
       "Metric(p=0.1093125, n=400.0, d_min=0.0075, se=0.0156)"
      ]
     },
     "execution_count": 11,
     "metadata": {},
     "output_type": "execute_result"
    }
   ],
   "source": [
    "net_conversion = Metric(p=rescaled_data[\"net_conversion\"], n=rescaled_data[\"clicks_trial\"], d_min=.0075)\n",
    "net_conversion"
   ]
  },
  {
   "cell_type": "markdown",
   "id": "979e1e7b-2741-4342-acab-fdf8caf1aab1",
   "metadata": {},
   "source": [
    "---"
   ]
  },
  {
   "cell_type": "markdown",
   "id": "8ece977e-27be-4e48-90b6-fbb4a0a0c3d3",
   "metadata": {
    "tags": []
   },
   "source": [
    "### ⚖ Sizing"
   ]
  },
  {
   "cell_type": "markdown",
   "id": "55e18af8-ee76-4703-b51b-da711b07503f",
   "metadata": {
    "tags": []
   },
   "source": [
    "#### - retention"
   ]
  },
  {
   "cell_type": "code",
   "execution_count": 12,
   "id": "60047615-53af-4af1-8587-1cdabe902013",
   "metadata": {},
   "outputs": [
    {
     "name": "stdout",
     "output_type": "stream",
     "text": [
      "sample size for retention per group (control/treatment) = 39099 enrollment\n"
     ]
    }
   ],
   "source": [
    "sample_size_retention = np.ceil( pwr_analysis.calculate_sample_size(retentiton.p, retentiton.d_min) )\n",
    "print(f\"sample size for retention per group (control/treatment) = {int(sample_size_retention)} enrollment\")"
   ]
  },
  {
   "cell_type": "markdown",
   "id": "9d19747e-429f-4669-aa85-287c471c5707",
   "metadata": {},
   "source": [
    "The result of **sample_size_retention** is for each of the two groups, control and experiment. Therefore, the total sample size for **retention** is double that number."
   ]
  },
  {
   "cell_type": "code",
   "execution_count": 13,
   "id": "0c5ee72c-da6b-4c55-ad5d-e2aa4b79be38",
   "metadata": {},
   "outputs": [
    {
     "name": "stdout",
     "output_type": "stream",
     "text": [
      "total sample size for retentiton is 78198 enrollment\n"
     ]
    }
   ],
   "source": [
    "retention_total_enrollments = 2 * sample_size_retention\n",
    "print(f\"total sample size for retentiton is {int(retention_total_enrollments)} enrollment\")"
   ]
  },
  {
   "cell_type": "markdown",
   "id": "bce021a2-061a-4dd6-9578-eb2ec8ded31c",
   "metadata": {},
   "source": [
    "retention = $\\frac{\\text{The number of remained enrollments past the 14-days}}{\\text{Total number of enrollments}} \\ \\Rightarrow \\quad$ Unit of analysis is **enrollments**    \n",
    "       \n",
    "$\\therefore \\quad$ The ratio of the unit of analysis to the total number of unique cookies viewing the home page per day = $\\frac{660}{40,000} = 0.0165$ *enrollment/page view*     \n",
    "     \n",
    "$\\large \\Rightarrow \\quad$ The total number of page views required to get **78198** enrollments is     \n",
    "     \n",
    "$\\frac{78198}{n} = 0.0165 \\quad \\Rightarrow \\quad n = \\ \\frac{78198}{0.0165} = 4,739,273$ *page view*"
   ]
  },
  {
   "cell_type": "markdown",
   "id": "5286d0da-cd6f-44f0-beb4-511542d19f03",
   "metadata": {
    "tags": []
   },
   "source": [
    "#### - net conversion"
   ]
  },
  {
   "cell_type": "code",
   "execution_count": 14,
   "id": "d8d994aa-fdc0-41ed-b96a-53c1e97f94f1",
   "metadata": {},
   "outputs": [
    {
     "name": "stdout",
     "output_type": "stream",
     "text": [
      "sample size for net conversion per group (control/treatment) = 27422 enrollment\n"
     ]
    }
   ],
   "source": [
    "sample_size_net_conversion = np.ceil( pwr_analysis.calculate_sample_size(p=net_conversion.p, \n",
    "                                                                         d_min=net_conversion.d_min) )\n",
    "\n",
    "print(f\"sample size for net conversion per group (control/treatment) = {int(sample_size_net_conversion)} enrollment\")"
   ]
  },
  {
   "cell_type": "code",
   "execution_count": 15,
   "id": "95f47f54-6dac-40a8-8dba-301bbefd9c22",
   "metadata": {},
   "outputs": [
    {
     "name": "stdout",
     "output_type": "stream",
     "text": [
      "total sample size for net conversion is 54844 enrollment\n"
     ]
    }
   ],
   "source": [
    "net_conversion_total_enrollments = 2 * sample_size_net_conversion\n",
    "print(f\"total sample size for net conversion is {int(net_conversion_total_enrollments)} enrollment\")"
   ]
  },
  {
   "cell_type": "markdown",
   "id": "bde416c4-67f6-4456-990c-cc59fb97c8b6",
   "metadata": {},
   "source": [
    "Unit of analysis is **clicks** on free-trial  \n",
    "$\\therefore \\quad$  The ratio of unit of analysis to total unique cookies viewing the home page per day = $ \\frac{3200}{40,000} = 0.08$ *click/page view*     \n",
    "     \n",
    "$\\large \\Rightarrow \\quad$ The total number of page views required to get **54844** enrollments that paid at least once is     \n",
    "     \n",
    "$ \\frac{54844}{0.08} = 685,550$ *page view*"
   ]
  },
  {
   "cell_type": "markdown",
   "id": "071d4c8f-5db7-43a8-9faa-98aa76e1b778",
   "metadata": {
    "tags": []
   },
   "source": [
    "#### -Metrics Summary"
   ]
  },
  {
   "cell_type": "markdown",
   "id": "3240ee60-c706-4939-ad53-22b6e2e21bc3",
   "metadata": {},
   "source": [
    "|       | Retention | Net Conversion |\n",
    "| :---- | :---      | :---           |\n",
    "| Baseline estimate |.53 | .1093125|\n",
    "| d_min | .01 |.0075 |\n",
    "| sample size | 39,099 enrollment | 27,422 enrollment |\n",
    "| total sample size = (sample size) x 2 | 78,198 | 54,844 |\n",
    "| standard error | .0549 | .0156 |\n",
    "| total page views required| 4,739,273 | 685,550 |"
   ]
  },
  {
   "cell_type": "markdown",
   "id": "e5b4da70-0bbf-4d77-b838-d54998d1d1ab",
   "metadata": {},
   "source": [
    "$\\therefore \\quad$*The required page views* = ***4,739,273*** *page view*"
   ]
  },
  {
   "cell_type": "markdown",
   "id": "39323d04-a5b9-480c-83a2-b2448f90005e",
   "metadata": {},
   "source": [
    "---"
   ]
  },
  {
   "cell_type": "markdown",
   "id": "1fb2cda1-e981-470f-b8ac-a796a2b2acc1",
   "metadata": {
    "tags": []
   },
   "source": [
    "### ⏱ Duration vs Exposure"
   ]
  },
  {
   "cell_type": "markdown",
   "id": "f8dbd9dc-3785-4a70-a52e-d23fec067dda",
   "metadata": {},
   "source": [
    "- Is the change risky enough that you wouldn't want to run on all traffic?      \n",
    "No, Because if the whole traffic is exposed to the change, it is not expected to see a drastic effect on other metrics nor user experience. Therefore it is safe to run the experiment on all the traffic if possible.\n",
    "- What percentage of Udacity's traffic would you divert to this experiment (assuming there were no other experiments you wanted to run simultaneously)?     \n",
    "To choose a percentage I would experiment with durations for collecting data for each metric.     \n",
    "1. 100% Traffic:     \n",
    "    a. duration for retention:  $\\large \\frac{4,739,273}{40,000}$ ≈ *119 days*    \n",
    "        \n",
    "    b. duration for net conversion: $\\large \\frac{685,550}{40,000}$ ≈ *18 days*\n",
    "2. 50% Traffic:     \n",
    "    a. duration for retention:  $\\large \\frac{4,739,273}{20,000}$ ≈ *238 days*    \n",
    "        \n",
    "    b. duration for net conversion: $\\large \\frac{685,550}{20,000}$ ≈ *35 days*     \n",
    "     \n",
    "> Although there is no red flags to run the experiment on 100% of the traffic, I choose to run it on 50% just to leave a room in case of a need to perform another experiment.     \n",
    "     \n",
    "- It is mentioned in the [experiment instructions](Final_project_instructions.pdf) that if the experiment takes longer than a few weeks, then it is unreasonably long and an earlier decision needs to be reconsidered.      \n",
    "In the case of the retention metric, the experiment needs to run for several months, which is way longer than a few weeks. In light of that, ***retention*** metric is dropped from the evaluation metrics, and we are only left with ***net conversion***."
   ]
  },
  {
   "cell_type": "markdown",
   "id": "dd7ed517-5a22-4837-89bf-12fd232ea7e7",
   "metadata": {},
   "source": [
    "---"
   ]
  },
  {
   "cell_type": "markdown",
   "id": "47810248-f08d-4c3d-be19-ce437153ef1b",
   "metadata": {
    "tags": []
   },
   "source": [
    "### 🔬 Analysis"
   ]
  },
  {
   "cell_type": "markdown",
   "id": "1ee44f50-368e-43db-b450-1c142ff81f90",
   "metadata": {},
   "source": [
    "There are two files of data provided with the experiment, one for the [control group](data/collected_data/control.csv) and the other one for the [experiment group](data/collected_data/experiment.csv). Both of the files register daily data about pageviews, clicks on free-triall button, enrollments and payments."
   ]
  },
  {
   "cell_type": "markdown",
   "id": "e979f5e5-5b2d-41d0-a017-576b61341234",
   "metadata": {
    "tags": []
   },
   "source": [
    "#### - Data exploration"
   ]
  },
  {
   "cell_type": "code",
   "execution_count": 16,
   "id": "bf2cd1c4-0834-4d02-a689-b2567f14abc2",
   "metadata": {},
   "outputs": [
    {
     "data": {
      "text/html": [
       "<div>\n",
       "<style scoped>\n",
       "    .dataframe tbody tr th:only-of-type {\n",
       "        vertical-align: middle;\n",
       "    }\n",
       "\n",
       "    .dataframe tbody tr th {\n",
       "        vertical-align: top;\n",
       "    }\n",
       "\n",
       "    .dataframe thead th {\n",
       "        text-align: right;\n",
       "    }\n",
       "</style>\n",
       "<table border=\"1\" class=\"dataframe\">\n",
       "  <thead>\n",
       "    <tr style=\"text-align: right;\">\n",
       "      <th></th>\n",
       "      <th>Pageviews</th>\n",
       "      <th>Clicks</th>\n",
       "      <th>Enrollments</th>\n",
       "      <th>Payments</th>\n",
       "    </tr>\n",
       "    <tr>\n",
       "      <th>Date</th>\n",
       "      <th></th>\n",
       "      <th></th>\n",
       "      <th></th>\n",
       "      <th></th>\n",
       "    </tr>\n",
       "  </thead>\n",
       "  <tbody>\n",
       "    <tr>\n",
       "      <th>Sat, Oct 11</th>\n",
       "      <td>7723</td>\n",
       "      <td>687</td>\n",
       "      <td>134.0</td>\n",
       "      <td>70.0</td>\n",
       "    </tr>\n",
       "    <tr>\n",
       "      <th>Sun, Oct 12</th>\n",
       "      <td>9102</td>\n",
       "      <td>779</td>\n",
       "      <td>147.0</td>\n",
       "      <td>70.0</td>\n",
       "    </tr>\n",
       "    <tr>\n",
       "      <th>Mon, Oct 13</th>\n",
       "      <td>10511</td>\n",
       "      <td>909</td>\n",
       "      <td>167.0</td>\n",
       "      <td>95.0</td>\n",
       "    </tr>\n",
       "    <tr>\n",
       "      <th>Tue, Oct 14</th>\n",
       "      <td>9871</td>\n",
       "      <td>836</td>\n",
       "      <td>156.0</td>\n",
       "      <td>105.0</td>\n",
       "    </tr>\n",
       "    <tr>\n",
       "      <th>Wed, Oct 15</th>\n",
       "      <td>10014</td>\n",
       "      <td>837</td>\n",
       "      <td>163.0</td>\n",
       "      <td>64.0</td>\n",
       "    </tr>\n",
       "  </tbody>\n",
       "</table>\n",
       "</div>"
      ],
      "text/plain": [
       "             Pageviews  Clicks  Enrollments  Payments\n",
       "Date                                                 \n",
       "Sat, Oct 11       7723     687        134.0      70.0\n",
       "Sun, Oct 12       9102     779        147.0      70.0\n",
       "Mon, Oct 13      10511     909        167.0      95.0\n",
       "Tue, Oct 14       9871     836        156.0     105.0\n",
       "Wed, Oct 15      10014     837        163.0      64.0"
      ]
     },
     "execution_count": 16,
     "metadata": {},
     "output_type": "execute_result"
    }
   ],
   "source": [
    "data_cont = pd.read_csv('data/collected_data/control.csv', index_col='Date')\n",
    "data_cont.head()"
   ]
  },
  {
   "cell_type": "code",
   "execution_count": 17,
   "id": "0468eb52-c097-45ef-a116-5db1c9784514",
   "metadata": {},
   "outputs": [
    {
     "data": {
      "text/html": [
       "<div>\n",
       "<style scoped>\n",
       "    .dataframe tbody tr th:only-of-type {\n",
       "        vertical-align: middle;\n",
       "    }\n",
       "\n",
       "    .dataframe tbody tr th {\n",
       "        vertical-align: top;\n",
       "    }\n",
       "\n",
       "    .dataframe thead th {\n",
       "        text-align: right;\n",
       "    }\n",
       "</style>\n",
       "<table border=\"1\" class=\"dataframe\">\n",
       "  <thead>\n",
       "    <tr style=\"text-align: right;\">\n",
       "      <th></th>\n",
       "      <th>Pageviews</th>\n",
       "      <th>Clicks</th>\n",
       "      <th>Enrollments</th>\n",
       "      <th>Payments</th>\n",
       "    </tr>\n",
       "    <tr>\n",
       "      <th>Date</th>\n",
       "      <th></th>\n",
       "      <th></th>\n",
       "      <th></th>\n",
       "      <th></th>\n",
       "    </tr>\n",
       "  </thead>\n",
       "  <tbody>\n",
       "    <tr>\n",
       "      <th>Sat, Oct 11</th>\n",
       "      <td>7716</td>\n",
       "      <td>686</td>\n",
       "      <td>105.0</td>\n",
       "      <td>34.0</td>\n",
       "    </tr>\n",
       "    <tr>\n",
       "      <th>Sun, Oct 12</th>\n",
       "      <td>9288</td>\n",
       "      <td>785</td>\n",
       "      <td>116.0</td>\n",
       "      <td>91.0</td>\n",
       "    </tr>\n",
       "    <tr>\n",
       "      <th>Mon, Oct 13</th>\n",
       "      <td>10480</td>\n",
       "      <td>884</td>\n",
       "      <td>145.0</td>\n",
       "      <td>79.0</td>\n",
       "    </tr>\n",
       "    <tr>\n",
       "      <th>Tue, Oct 14</th>\n",
       "      <td>9867</td>\n",
       "      <td>827</td>\n",
       "      <td>138.0</td>\n",
       "      <td>92.0</td>\n",
       "    </tr>\n",
       "    <tr>\n",
       "      <th>Wed, Oct 15</th>\n",
       "      <td>9793</td>\n",
       "      <td>832</td>\n",
       "      <td>140.0</td>\n",
       "      <td>94.0</td>\n",
       "    </tr>\n",
       "  </tbody>\n",
       "</table>\n",
       "</div>"
      ],
      "text/plain": [
       "             Pageviews  Clicks  Enrollments  Payments\n",
       "Date                                                 \n",
       "Sat, Oct 11       7716     686        105.0      34.0\n",
       "Sun, Oct 12       9288     785        116.0      91.0\n",
       "Mon, Oct 13      10480     884        145.0      79.0\n",
       "Tue, Oct 14       9867     827        138.0      92.0\n",
       "Wed, Oct 15       9793     832        140.0      94.0"
      ]
     },
     "execution_count": 17,
     "metadata": {},
     "output_type": "execute_result"
    }
   ],
   "source": [
    "data_exp = pd.read_csv('data/collected_data/experiment.csv', index_col='Date')\n",
    "data_exp.head()"
   ]
  },
  {
   "cell_type": "markdown",
   "id": "3f9f22cb-04bd-4f83-a083-7d5431a1b115",
   "metadata": {
    "tags": []
   },
   "source": [
    "#### - Sanity checks"
   ]
  },
  {
   "cell_type": "code",
   "execution_count": 18,
   "id": "ff23461d-9118-4e0a-82e6-f5a15149afec",
   "metadata": {},
   "outputs": [],
   "source": [
    "page_views_control = data_cont.Pageviews.sum()\n",
    "page_views_experiment = data_exp.Pageviews.sum()\n",
    "total_page_views = page_views_control + page_views_experiment"
   ]
  },
  {
   "cell_type": "code",
   "execution_count": 19,
   "id": "99add7c5-6252-421b-9fd6-e60943b520f8",
   "metadata": {},
   "outputs": [
    {
     "name": "stdout",
     "output_type": "stream",
     "text": [
      "pageviews in the control group = 345543\n",
      "pageviews in the control group = 344660\n",
      "total pageviews = 690203\n"
     ]
    }
   ],
   "source": [
    "print(f\"pageviews in the control group = {page_views_control}\")\n",
    "print(f\"pageviews in the control group = {page_views_experiment}\")\n",
    "print(f\"total pageviews = {total_page_views}\")"
   ]
  },
  {
   "cell_type": "markdown",
   "id": "c78264c7-910a-43f3-9a33-14e6ee4519cb",
   "metadata": {},
   "source": [
    "Total pageviews are greater than the required pageviews required for the net conversion metric that we calculated earlier, which means the analysis of the net conversion metric will have a power of not less than 80%. From another point of view, the pageviews in the control group are greater than the pageviews in the experiment group by 883 *pageview*, We have to check if this difference in sample sizes is due to chance or is significant by performing a sanity check."
   ]
  },
  {
   "cell_type": "markdown",
   "id": "30ef1708-4ca9-4670-a434-1430b0ee1ca1",
   "metadata": {},
   "source": [
    "***H₀***: P(pageview diverted to control group) = P(pageview diverted to experiment group) = .5     \n",
    "***Vs***      \n",
    "***H₁***: P(pageview diverted to control group) ≠ P(pageview diverted to experiment group)"
   ]
  },
  {
   "cell_type": "code",
   "execution_count": 20,
   "id": "f6ef464b-7987-4aac-92b1-9d85d6ddc270",
   "metadata": {},
   "outputs": [],
   "source": [
    "metric_analyzer = MetricAnalyzer()"
   ]
  },
  {
   "cell_type": "code",
   "execution_count": 21,
   "id": "2579fd24-c2a3-4ac9-b8de-13edcfe14dbd",
   "metadata": {},
   "outputs": [
    {
     "name": "stdout",
     "output_type": "stream",
     "text": [
      "p_hat=0.5006, ci=(0.4988, 0.5012), 0.4988 ≤ p_hat ≤ 0.5012, PASSED\n"
     ]
    }
   ],
   "source": [
    "metric_analyzer.sanity_check(page_views_control, page_views_experiment, return_report=True)"
   ]
  },
  {
   "cell_type": "markdown",
   "id": "2a498a1b-aa8d-44db-af16-6cd52cd77cf0",
   "metadata": {},
   "source": [
    "As we see, the probability of a pageview being assigned to the control group falls within the boundries of the confidence interval; therefore, we fail to reject ***H₀*** $\\quad \\Rightarrow \\quad$ aaccording to the data, there is no evidence that the pageviews in the control group and the experiment group differ significantly."
   ]
  },
  {
   "cell_type": "code",
   "execution_count": 22,
   "id": "4c7ca4d7-3529-4a2c-b4b1-dcb7b4cb219a",
   "metadata": {
    "tags": []
   },
   "outputs": [],
   "source": [
    "clicks_control = data_cont.Clicks.sum()\n",
    "clicks_experiment = data_exp.Clicks.sum()\n",
    "total_clicks = clicks_control + clicks_experiment"
   ]
  },
  {
   "cell_type": "code",
   "execution_count": 23,
   "id": "8faa5d57-05a8-4156-9020-f7e0e10c3468",
   "metadata": {},
   "outputs": [
    {
     "name": "stdout",
     "output_type": "stream",
     "text": [
      "p_hat=0.5005, ci=(0.4959, 0.5041), 0.4959 ≤ p_hat ≤ 0.5041, PASSED\n"
     ]
    }
   ],
   "source": [
    "metric_analyzer.sanity_check(clicks_control, clicks_experiment, return_report=True)"
   ]
  },
  {
   "cell_type": "markdown",
   "id": "64cb43f2-43c4-4ac7-9494-d50251bb8e21",
   "metadata": {},
   "source": [
    "The same procedure is applicable to the number of clicks on the free-trial button. There is no evidence that the number of clicks on the free-trial button in the control group differs from its counterpart in the experiment group."
   ]
  },
  {
   "cell_type": "markdown",
   "id": "6060c8f7-8906-4570-8496-59d07358acf9",
   "metadata": {},
   "source": [
    "#### - Analysis of the Evaluation metrics"
   ]
  },
  {
   "cell_type": "markdown",
   "id": "aaf50703-cc9b-413a-8634-e96fbdd9c308",
   "metadata": {},
   "source": [
    "##### -Analytically"
   ]
  },
  {
   "cell_type": "code",
   "execution_count": 24,
   "id": "8b1beaca-2dba-467f-9838-a52b3ee256c4",
   "metadata": {},
   "outputs": [],
   "source": [
    "payments_cont = data_cont.Payments[~data_cont.Payments.isnull()]\n",
    "clicks_cont = data_cont.Clicks[~data_cont.Payments.isnull()]\n",
    "\n",
    "payments_cont_sum = payments_cont.sum()\n",
    "clicks_cont_sum = clicks_cont.sum()\n",
    "net_conversion_cont = payments_cont_sum/clicks_cont_sum"
   ]
  },
  {
   "cell_type": "code",
   "execution_count": 25,
   "id": "87f775c4-2cff-4e5f-9dd1-961b6f15c131",
   "metadata": {},
   "outputs": [],
   "source": [
    "payments_exp = data_exp.Payments[~data_exp.Payments.isnull()]\n",
    "clicks_exp = data_exp.Clicks[~data_exp.Payments.isnull()]\n",
    "\n",
    "payments_exp_sum = payments_exp.sum()\n",
    "clicks_exp_sum = clicks_exp.sum()\n",
    "net_conversion_exp = payments_exp_sum/clicks_exp_sum"
   ]
  },
  {
   "cell_type": "code",
   "execution_count": 26,
   "id": "ee0aeb2f-3517-4699-9ee6-1f1da915dc27",
   "metadata": {},
   "outputs": [
    {
     "data": {
      "text/plain": [
       "-0.0049"
      ]
     },
     "execution_count": 26,
     "metadata": {},
     "output_type": "execute_result"
    }
   ],
   "source": [
    "net_conversion_diff = net_conversion_exp - net_conversion_cont\n",
    "np.round(net_conversion_diff, 4)"
   ]
  },
  {
   "cell_type": "markdown",
   "id": "6791535c-9adf-49f9-a85f-cb1685fd05fd",
   "metadata": {},
   "source": [
    "***H₀***: conversion rate in control group = conversion rate in experiment group     \n",
    "***Vs***      \n",
    "***H₁***: conversion rate in control group ≠ conversion rate in experiment group "
   ]
  },
  {
   "cell_type": "code",
   "execution_count": 27,
   "id": "ab887d37-6f0e-4f33-b154-a9204e47d24f",
   "metadata": {},
   "outputs": [],
   "source": [
    "net_conversion_pooled = (payments_cont_sum + payments_exp_sum) / (clicks_cont_sum + clicks_exp_sum)"
   ]
  },
  {
   "cell_type": "code",
   "execution_count": 28,
   "id": "2ea946ca-40f5-4f03-ad5c-686eca90bcaa",
   "metadata": {},
   "outputs": [],
   "source": [
    "net_conversion_se = metric_analyzer.calculate_pooled_proportion_se(net_conversion_pooled, \n",
    "                                                                clicks_cont_sum, \n",
    "                                                                clicks_exp_sum)"
   ]
  },
  {
   "cell_type": "code",
   "execution_count": 29,
   "id": "ceb4caf1-905a-4427-9958-76155bcdf2a7",
   "metadata": {},
   "outputs": [
    {
     "data": {
      "text/plain": [
       "(-0.0116, 0.0018)"
      ]
     },
     "execution_count": 29,
     "metadata": {},
     "output_type": "execute_result"
    }
   ],
   "source": [
    "ci = metric_analyzer.construct_CI(net_conversion_diff, net_conversion_se)\n",
    "ci"
   ]
  },
  {
   "cell_type": "code",
   "execution_count": 30,
   "id": "67ad9824-49e3-4dd4-a0f6-28b28a5a07d4",
   "metadata": {},
   "outputs": [
    {
     "name": "stdout",
     "output_type": "stream",
     "text": [
      "d_hat=0, ci=(-0.0116, 0.0018), -0.0116 ≤ d_hat ≤ 0.0018, \n"
     ]
    }
   ],
   "source": [
    "generate_ci_report(0, ci)"
   ]
  },
  {
   "cell_type": "markdown",
   "id": "e68a4795-19a4-485a-9f4b-a1a72aab60dd",
   "metadata": {},
   "source": [
    "The confidence interval contains 0. Therefore, we fail to reject H₀, which means the experiment is statistically insignificant and, moreover, practically insignificant too."
   ]
  },
  {
   "cell_type": "markdown",
   "id": "ecdcd803-99f3-475e-8c8c-fefe94f8abe8",
   "metadata": {},
   "source": [
    "##### -Empirically "
   ]
  },
  {
   "cell_type": "code",
   "execution_count": 31,
   "id": "bc33839d-a9f8-4a08-9fee-b035ef1ca7c0",
   "metadata": {},
   "outputs": [],
   "source": [
    "nc_cont = payments_cont/clicks_cont\n",
    "nc_exp = payments_exp/clicks_exp\n",
    "\n",
    "nc_change = nc_cont < nc_exp"
   ]
  },
  {
   "cell_type": "markdown",
   "id": "937c79af-7baa-4fd3-96e2-2ede6dc1e4c5",
   "metadata": {},
   "source": [
    "***H₀***: chances for positive change = 50% $\\quad Vs \\quad$ ***H₁***: chances for positive change ≠ 50%"
   ]
  },
  {
   "cell_type": "code",
   "execution_count": 32,
   "id": "834fb635-7b10-4116-a4c8-579ec858d89c",
   "metadata": {},
   "outputs": [
    {
     "data": {
      "text/plain": [
       "BinomTestResult(k=10, n=23, alternative='two-sided', proportion_estimate=0.43478260869565216, pvalue=0.6776394844055176)"
      ]
     },
     "execution_count": 32,
     "metadata": {},
     "output_type": "execute_result"
    }
   ],
   "source": [
    "binomtest = ss.binomtest(k=nc_change.sum(), n=nc_change.count())\n",
    "binomtest"
   ]
  },
  {
   "cell_type": "markdown",
   "id": "7da40d6e-be8a-47a4-aa55-e46252b4ef61",
   "metadata": {},
   "source": [
    "From the binomial test above, ***the p-value = .678 > .05***, which indicates the failure to reject ***H₀***. This means that there is no evidence that the positive change in the experiment group happened by chance.     \n",
    "</br> \n",
    "***Finally***, the binomial test supports the analytical test, indicating that the change has neither statistical nor practical significance."
   ]
  },
  {
   "cell_type": "markdown",
   "id": "5b313080-b3bd-4ea4-82d2-e6dfb427e309",
   "metadata": {},
   "source": [
    "### 🧾 Recommendation"
   ]
  },
  {
   "cell_type": "markdown",
   "id": "5ea5cd17-d504-41af-a0fd-db02bacded94",
   "metadata": {},
   "source": [
    "In a nutshell, the experiment hypothesis was to check whether filtering out the students who do not have enough time to dedicate to courses would result in better utilization of the coaching resources and a better student experience for those who continue their subscription after the free-trial period without decreasing the enrollment rate. The results show no statistical nor practical significance for the net conversion metric. In light of that, it is recommended not to launch the experiment."
   ]
  },
  {
   "cell_type": "code",
   "execution_count": null,
   "id": "bac10d07-66b4-425a-b370-1c267ccbd0d0",
   "metadata": {},
   "outputs": [],
   "source": []
  }
 ],
 "metadata": {
  "kernelspec": {
   "display_name": "Python 3 (ipykernel)",
   "language": "python",
   "name": "python3"
  },
  "language_info": {
   "codemirror_mode": {
    "name": "ipython",
    "version": 3
   },
   "file_extension": ".py",
   "mimetype": "text/x-python",
   "name": "python",
   "nbconvert_exporter": "python",
   "pygments_lexer": "ipython3",
   "version": "3.9.12"
  }
 },
 "nbformat": 4,
 "nbformat_minor": 5
}
